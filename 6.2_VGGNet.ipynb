{
 "cells": [
  {
   "cell_type": "markdown",
   "metadata": {},
   "source": [
    "# VGGNet\n",
    "2014年 ILSVRC 分类项目第2名和定位项目第一名。\n",
    "\n",
    "\n",
    "VGGNet由牛津大学的视觉几何组（Visual Geometry Group）提出，是ILSVRC-2014中定位任务第一名和分类任务第二名。其突出贡献在于证明使用很小的卷积（3*3），增加网络深度可以有效提升模型的效果，而且VGGNet对其他数据集具有很好的泛化能力。\n",
    "VGGNet 训练后的模型参数在其官方网站上开源了，可用来在 domain specific 的图像分类任务上进行再训练（相当于提供了非常好的初始化权重），因此被用在了很多地方。\n",
    "\n",
    "**重点：VGGNet 的拓展性很强，迁移到其他图片数据上的泛化性非常好。**\n",
    "\n",
    "VGGNet 各级别网络结构图\n",
    "![VGGNet](https://ws1.sinaimg.cn/large/006H1aMCgy1fgiodq07gtj30ea0ep75i.jpg)\n",
    "\n",
    "VGGNet 各级别网络参数量（单位：百万）\n",
    "![params](https://ws1.sinaimg.cn/large/006H1aMCgy1fgiomhsecaj30bo01rt8m.jpg)\n",
    "\n",
    "VGGNet 各级别在使用Multi-Scale 训练时的top-5错误率\n",
    "![top-5 error](https://ws1.sinaimg.cn/large/006H1aMCgy1fgipi9iehuj30ov090jsf.jpg)\n",
    "\n",
    "**亮点：**\n",
    "1. 每个卷积段包含多个卷积层，每个卷积层都使用3x3大小的核，卷积段为多个完全一样的3x3卷积堆叠在一起，实现了大卷积核的效果（2个3x3卷积核实现1个5x5卷积核效果，3个3x3卷积核实现1个7x7卷积核效果,....）,但参数量确大幅减小。\n",
    "2. VGGNet 在训练时有一个小技巧，先训练级别A的简单网络，再复用A网络的权重来初始化后面的几个复杂模型，这样训练收敛的速度更快。\n",
    "3. 在预测时，VGG 采用 Multi-Scale 的方法，将图像 scale 到一个尺寸 Q，并将图片输入卷积网络计算。然后在最后一个卷积层使用滑窗的方式进行分类预测，将不同窗口的分类结果平均，再将不同尺寸 Q的结果平均得到最后结果，这样可提高图片数据的利用率并提升预测准确率。\n",
    "4. VGGNet 还使用了 Multi-Scale 的方法做数据增强，将原始图像缩放到不同尺寸 S，然后再随机裁切224x224的图片，这样能增加很多数据量，对于防止模型过拟合有很不错的效果。实践中，作者令 S 在[256,512]这个区间内取值，使用 Multi-Scale 获得多个版本的数据，并将多个版本的数据合在一起进行训练。\n",
    "\n",
    "**作者观点：**\n",
    "1. LRN层作用不大；\n",
    "2. 越深的网络效果越好；\n",
    "3. 1x1的卷积也是有效的，但没3x3的卷积效果好，大一些的卷积核可以学习更大的空间特征。"
   ]
  },
  {
   "cell_type": "code",
   "execution_count": 7,
   "metadata": {
    "collapsed": true
   },
   "outputs": [],
   "source": [
    "from datetime import datetime\n",
    "import math\n",
    "import time\n",
    "import tensorflow as tf"
   ]
  },
  {
   "cell_type": "code",
   "execution_count": 8,
   "metadata": {
    "collapsed": true
   },
   "outputs": [],
   "source": [
    "batch_size=32\n",
    "num_batches=100"
   ]
  },
  {
   "cell_type": "markdown",
   "metadata": {},
   "source": [
    "# 卷积层创建函数"
   ]
  },
  {
   "cell_type": "code",
   "execution_count": 2,
   "metadata": {
    "collapsed": true
   },
   "outputs": [],
   "source": [
    "def conv_op(input_op, name, kh, kw, n_out, dh, dw, p):\n",
    "    n_in = input_op.get_shape()[-1].value\n",
    "\n",
    "    with tf.name_scope(name) as scope:\n",
    "        kernel = tf.get_variable(scope+\"w\",\n",
    "                                 shape=[kh, kw, n_in, n_out],\n",
    "                                 dtype=tf.float32, \n",
    "                                 initializer=tf.contrib.layers.xavier_initializer_conv2d())\n",
    "        conv = tf.nn.conv2d(input_op, kernel, (1, dh, dw, 1), padding='SAME')\n",
    "        bias_init_val = tf.constant(0.0, shape=[n_out], dtype=tf.float32)\n",
    "        biases = tf.Variable(bias_init_val, trainable=True, name='b')\n",
    "        z = tf.nn.bias_add(conv, biases)\n",
    "        activation = tf.nn.relu(z, name=scope)\n",
    "        p += [kernel, biases]\n",
    "        return activation"
   ]
  },
  {
   "cell_type": "markdown",
   "metadata": {},
   "source": [
    "# 全连接层创建函数"
   ]
  },
  {
   "cell_type": "code",
   "execution_count": 3,
   "metadata": {
    "collapsed": true
   },
   "outputs": [],
   "source": [
    "def fc_op(input_op, name, n_out, p):\n",
    "    n_in = input_op.get_shape()[-1].value\n",
    "\n",
    "    with tf.name_scope(name) as scope:\n",
    "        kernel = tf.get_variable(scope+\"w\",\n",
    "                                 shape=[n_in, n_out],\n",
    "                                 dtype=tf.float32, \n",
    "                                 initializer=tf.contrib.layers.xavier_initializer())\n",
    "        biases = tf.Variable(tf.constant(0.1, shape=[n_out], dtype=tf.float32), name='b')\n",
    "        activation = tf.nn.relu_layer(input_op, kernel, biases, name=scope)\n",
    "        p += [kernel, biases]\n",
    "        return activation"
   ]
  },
  {
   "cell_type": "markdown",
   "metadata": {},
   "source": [
    "# 最大池化层创建函数"
   ]
  },
  {
   "cell_type": "code",
   "execution_count": 4,
   "metadata": {
    "collapsed": true
   },
   "outputs": [],
   "source": [
    "def mpool_op(input_op, name, kh, kw, dh, dw):\n",
    "    return tf.nn.max_pool(input_op,\n",
    "                          ksize=[1, kh, kw, 1],\n",
    "                          strides=[1, dh, dw, 1],\n",
    "                          padding='SAME',\n",
    "                          name=name)"
   ]
  },
  {
   "cell_type": "markdown",
   "metadata": {},
   "source": [
    "# 定义VGGNet-16 网络（inference)"
   ]
  },
  {
   "cell_type": "code",
   "execution_count": 5,
   "metadata": {
    "collapsed": true
   },
   "outputs": [],
   "source": [
    "def inference_op(input_op, keep_prob):\n",
    "    p = []\n",
    "    # assume input_op shape is 224x224x3\n",
    "\n",
    "    # block 1 -- outputs 112x112x64\n",
    "    conv1_1 = conv_op(input_op, name=\"conv1_1\", kh=3, kw=3, n_out=64, dh=1, dw=1, p=p)\n",
    "    conv1_2 = conv_op(conv1_1,  name=\"conv1_2\", kh=3, kw=3, n_out=64, dh=1, dw=1, p=p)\n",
    "    pool1 = mpool_op(conv1_2,   name=\"pool1\",   kh=2, kw=2, dw=2, dh=2)\n",
    "\n",
    "    # block 2 -- outputs 56x56x128\n",
    "    conv2_1 = conv_op(pool1,    name=\"conv2_1\", kh=3, kw=3, n_out=128, dh=1, dw=1, p=p)\n",
    "    conv2_2 = conv_op(conv2_1,  name=\"conv2_2\", kh=3, kw=3, n_out=128, dh=1, dw=1, p=p)\n",
    "    pool2 = mpool_op(conv2_2,   name=\"pool2\",   kh=2, kw=2, dh=2, dw=2)\n",
    "\n",
    "    # # block 3 -- outputs 28x28x256\n",
    "    conv3_1 = conv_op(pool2,    name=\"conv3_1\", kh=3, kw=3, n_out=256, dh=1, dw=1, p=p)\n",
    "    conv3_2 = conv_op(conv3_1,  name=\"conv3_2\", kh=3, kw=3, n_out=256, dh=1, dw=1, p=p)\n",
    "    conv3_3 = conv_op(conv3_2,  name=\"conv3_3\", kh=3, kw=3, n_out=256, dh=1, dw=1, p=p)    \n",
    "    pool3 = mpool_op(conv3_3,   name=\"pool3\",   kh=2, kw=2, dh=2, dw=2)\n",
    "\n",
    "    # block 4 -- outputs 14x14x512\n",
    "    conv4_1 = conv_op(pool3,    name=\"conv4_1\", kh=3, kw=3, n_out=512, dh=1, dw=1, p=p)\n",
    "    conv4_2 = conv_op(conv4_1,  name=\"conv4_2\", kh=3, kw=3, n_out=512, dh=1, dw=1, p=p)\n",
    "    conv4_3 = conv_op(conv4_2,  name=\"conv4_3\", kh=3, kw=3, n_out=512, dh=1, dw=1, p=p)\n",
    "    pool4 = mpool_op(conv4_3,   name=\"pool4\",   kh=2, kw=2, dh=2, dw=2)\n",
    "\n",
    "    # block 5 -- outputs 7x7x512\n",
    "    conv5_1 = conv_op(pool4,    name=\"conv5_1\", kh=3, kw=3, n_out=512, dh=1, dw=1, p=p)\n",
    "    conv5_2 = conv_op(conv5_1,  name=\"conv5_2\", kh=3, kw=3, n_out=512, dh=1, dw=1, p=p)\n",
    "    conv5_3 = conv_op(conv5_2,  name=\"conv5_3\", kh=3, kw=3, n_out=512, dh=1, dw=1, p=p)\n",
    "    pool5 = mpool_op(conv5_3,   name=\"pool5\",   kh=2, kw=2, dw=2, dh=2)\n",
    "\n",
    "    # flatten\n",
    "    shp = pool5.get_shape()\n",
    "    flattened_shape = shp[1].value * shp[2].value * shp[3].value\n",
    "    resh1 = tf.reshape(pool5, [-1, flattened_shape], name=\"resh1\")\n",
    "\n",
    "    # fully connected\n",
    "    fc6 = fc_op(resh1, name=\"fc6\", n_out=4096, p=p)\n",
    "    fc6_drop = tf.nn.dropout(fc6, keep_prob, name=\"fc6_drop\")\n",
    "\n",
    "    fc7 = fc_op(fc6_drop, name=\"fc7\", n_out=4096, p=p)\n",
    "    fc7_drop = tf.nn.dropout(fc7, keep_prob, name=\"fc7_drop\")\n",
    "\n",
    "    fc8 = fc_op(fc7_drop, name=\"fc8\", n_out=1000, p=p)\n",
    "    softmax = tf.nn.softmax(fc8)\n",
    "    predictions = tf.argmax(softmax, 1)\n",
    "    return predictions, softmax, fc8, p"
   ]
  },
  {
   "cell_type": "code",
   "execution_count": 6,
   "metadata": {
    "collapsed": true
   },
   "outputs": [],
   "source": [
    "def time_tensorflow_run(session, target, feed, info_string):\n",
    "    num_steps_burn_in = 10\n",
    "    total_duration = 0.0\n",
    "    total_duration_squared = 0.0\n",
    "    for i in range(num_batches + num_steps_burn_in):\n",
    "        start_time = time.time()\n",
    "        _ = session.run(target, feed_dict=feed)\n",
    "        duration = time.time() - start_time\n",
    "        if i >= num_steps_burn_in:\n",
    "            if not i % 10:\n",
    "                print ('%s: step %d, duration = %.3f' %\n",
    "                       (datetime.now(), i - num_steps_burn_in, duration))\n",
    "            total_duration += duration\n",
    "            total_duration_squared += duration * duration\n",
    "    mn = total_duration / num_batches\n",
    "    vr = total_duration_squared / num_batches - mn * mn\n",
    "    sd = math.sqrt(vr)\n",
    "    print ('%s: %s across %d steps, %.3f +/- %.3f sec / batch' %\n",
    "           (datetime.now(), info_string, num_batches, mn, sd))\n"
   ]
  },
  {
   "cell_type": "code",
   "execution_count": 9,
   "metadata": {
    "collapsed": true
   },
   "outputs": [],
   "source": [
    "def run_benchmark():\n",
    "    with tf.Graph().as_default():\n",
    "        image_size = 224\n",
    "        images = tf.Variable(tf.random_normal([batch_size,\n",
    "                                               image_size,\n",
    "                                               image_size, 3],\n",
    "                                               dtype=tf.float32,\n",
    "                                               stddev=1e-1))\n",
    "\n",
    "        keep_prob = tf.placeholder(tf.float32)\n",
    "        predictions, softmax, fc8, p = inference_op(images, keep_prob)\n",
    "\n",
    "        init = tf.global_variables_initializer()\n",
    "\n",
    "        config = tf.ConfigProto()\n",
    "        config.gpu_options.allocator_type = 'BFC'\n",
    "        sess = tf.Session(config=config)\n",
    "        sess.run(init)\n",
    "\n",
    "        time_tensorflow_run(sess, predictions, {keep_prob:1.0}, \"Forward\")\n",
    "\n",
    "        objective = tf.nn.l2_loss(fc8)\n",
    "        grad = tf.gradients(objective, p)\n",
    "        time_tensorflow_run(sess, grad, {keep_prob:0.5}, \"Forward-backward\")"
   ]
  },
  {
   "cell_type": "code",
   "execution_count": 10,
   "metadata": {
    "collapsed": false
   },
   "outputs": [
    {
     "name": "stdout",
     "output_type": "stream",
     "text": [
      "WARNING:tensorflow:From /home/lile/anaconda3/lib/python3.5/site-packages/tensorflow/contrib/learn/python/learn/dataframe/transforms/batch.py:41: parameter (from tensorflow.contrib.learn.python.learn.dataframe.transform) is deprecated and will be removed after 2017-06-15.\n",
      "Instructions for updating:\n",
      "contrib/learn/dataframe/** is deprecated.\n",
      "WARNING:tensorflow:From /home/lile/anaconda3/lib/python3.5/site-packages/tensorflow/contrib/learn/python/learn/dataframe/transforms/batch.py:45: parameter (from tensorflow.contrib.learn.python.learn.dataframe.transform) is deprecated and will be removed after 2017-06-15.\n",
      "Instructions for updating:\n",
      "contrib/learn/dataframe/** is deprecated.\n",
      "WARNING:tensorflow:From /home/lile/anaconda3/lib/python3.5/site-packages/tensorflow/contrib/learn/python/learn/dataframe/transforms/batch.py:49: parameter (from tensorflow.contrib.learn.python.learn.dataframe.transform) is deprecated and will be removed after 2017-06-15.\n",
      "Instructions for updating:\n",
      "contrib/learn/dataframe/** is deprecated.\n",
      "WARNING:tensorflow:From /home/lile/anaconda3/lib/python3.5/site-packages/tensorflow/contrib/learn/python/learn/dataframe/transforms/batch.py:116: parameter (from tensorflow.contrib.learn.python.learn.dataframe.transform) is deprecated and will be removed after 2017-06-15.\n",
      "Instructions for updating:\n",
      "contrib/learn/dataframe/** is deprecated.\n",
      "WARNING:tensorflow:From /home/lile/anaconda3/lib/python3.5/site-packages/tensorflow/contrib/learn/python/learn/dataframe/transforms/batch.py:120: parameter (from tensorflow.contrib.learn.python.learn.dataframe.transform) is deprecated and will be removed after 2017-06-15.\n",
      "Instructions for updating:\n",
      "contrib/learn/dataframe/** is deprecated.\n",
      "WARNING:tensorflow:From /home/lile/anaconda3/lib/python3.5/site-packages/tensorflow/contrib/learn/python/learn/dataframe/transforms/csv_parser.py:53: parameter (from tensorflow.contrib.learn.python.learn.dataframe.transform) is deprecated and will be removed after 2017-06-15.\n",
      "Instructions for updating:\n",
      "contrib/learn/dataframe/** is deprecated.\n",
      "WARNING:tensorflow:From /home/lile/anaconda3/lib/python3.5/site-packages/tensorflow/contrib/learn/python/learn/dataframe/transforms/csv_parser.py:57: parameter (from tensorflow.contrib.learn.python.learn.dataframe.transform) is deprecated and will be removed after 2017-06-15.\n",
      "Instructions for updating:\n",
      "contrib/learn/dataframe/** is deprecated.\n",
      "WARNING:tensorflow:From /home/lile/anaconda3/lib/python3.5/site-packages/tensorflow/contrib/learn/python/learn/dataframe/transforms/example_parser.py:60: parameter (from tensorflow.contrib.learn.python.learn.dataframe.transform) is deprecated and will be removed after 2017-06-15.\n",
      "Instructions for updating:\n",
      "contrib/learn/dataframe/** is deprecated.\n",
      "WARNING:tensorflow:From /home/lile/anaconda3/lib/python3.5/site-packages/tensorflow/contrib/learn/python/learn/dataframe/transforms/in_memory_source.py:52: parameter (from tensorflow.contrib.learn.python.learn.dataframe.transform) is deprecated and will be removed after 2017-06-15.\n",
      "Instructions for updating:\n",
      "contrib/learn/dataframe/** is deprecated.\n",
      "WARNING:tensorflow:From /home/lile/anaconda3/lib/python3.5/site-packages/tensorflow/contrib/learn/python/learn/dataframe/transforms/in_memory_source.py:56: parameter (from tensorflow.contrib.learn.python.learn.dataframe.transform) is deprecated and will be removed after 2017-06-15.\n",
      "Instructions for updating:\n",
      "contrib/learn/dataframe/** is deprecated.\n",
      "WARNING:tensorflow:From /home/lile/anaconda3/lib/python3.5/site-packages/tensorflow/contrib/learn/python/learn/dataframe/transforms/in_memory_source.py:60: parameter (from tensorflow.contrib.learn.python.learn.dataframe.transform) is deprecated and will be removed after 2017-06-15.\n",
      "Instructions for updating:\n",
      "contrib/learn/dataframe/** is deprecated.\n",
      "WARNING:tensorflow:From /home/lile/anaconda3/lib/python3.5/site-packages/tensorflow/contrib/learn/python/learn/dataframe/transforms/in_memory_source.py:64: parameter (from tensorflow.contrib.learn.python.learn.dataframe.transform) is deprecated and will be removed after 2017-06-15.\n",
      "Instructions for updating:\n",
      "contrib/learn/dataframe/** is deprecated.\n",
      "WARNING:tensorflow:From /home/lile/anaconda3/lib/python3.5/site-packages/tensorflow/contrib/learn/python/learn/dataframe/transforms/in_memory_source.py:68: parameter (from tensorflow.contrib.learn.python.learn.dataframe.transform) is deprecated and will be removed after 2017-06-15.\n",
      "Instructions for updating:\n",
      "contrib/learn/dataframe/** is deprecated.\n",
      "WARNING:tensorflow:From /home/lile/anaconda3/lib/python3.5/site-packages/tensorflow/contrib/learn/python/learn/dataframe/transforms/in_memory_source.py:72: parameter (from tensorflow.contrib.learn.python.learn.dataframe.transform) is deprecated and will be removed after 2017-06-15.\n",
      "Instructions for updating:\n",
      "contrib/learn/dataframe/** is deprecated.\n",
      "WARNING:tensorflow:From /home/lile/anaconda3/lib/python3.5/site-packages/tensorflow/contrib/learn/python/learn/dataframe/transforms/in_memory_source.py:76: parameter (from tensorflow.contrib.learn.python.learn.dataframe.transform) is deprecated and will be removed after 2017-06-15.\n",
      "Instructions for updating:\n",
      "contrib/learn/dataframe/** is deprecated.\n",
      "WARNING:tensorflow:From /home/lile/anaconda3/lib/python3.5/site-packages/tensorflow/contrib/learn/python/learn/dataframe/transforms/in_memory_source.py:80: parameter (from tensorflow.contrib.learn.python.learn.dataframe.transform) is deprecated and will be removed after 2017-06-15.\n",
      "Instructions for updating:\n",
      "contrib/learn/dataframe/** is deprecated.\n",
      "WARNING:tensorflow:From /home/lile/anaconda3/lib/python3.5/site-packages/tensorflow/contrib/learn/python/learn/dataframe/transforms/in_memory_source.py:84: parameter (from tensorflow.contrib.learn.python.learn.dataframe.transform) is deprecated and will be removed after 2017-06-15.\n",
      "Instructions for updating:\n",
      "contrib/learn/dataframe/** is deprecated.\n",
      "WARNING:tensorflow:From /home/lile/anaconda3/lib/python3.5/site-packages/tensorflow/contrib/learn/python/learn/dataframe/transforms/reader_source.py:78: parameter (from tensorflow.contrib.learn.python.learn.dataframe.transform) is deprecated and will be removed after 2017-06-15.\n",
      "Instructions for updating:\n",
      "contrib/learn/dataframe/** is deprecated.\n",
      "WARNING:tensorflow:From /home/lile/anaconda3/lib/python3.5/site-packages/tensorflow/contrib/learn/python/learn/dataframe/transforms/reader_source.py:82: parameter (from tensorflow.contrib.learn.python.learn.dataframe.transform) is deprecated and will be removed after 2017-06-15.\n",
      "Instructions for updating:\n",
      "contrib/learn/dataframe/** is deprecated.\n",
      "WARNING:tensorflow:From /home/lile/anaconda3/lib/python3.5/site-packages/tensorflow/contrib/learn/python/learn/dataframe/transforms/reader_source.py:86: parameter (from tensorflow.contrib.learn.python.learn.dataframe.transform) is deprecated and will be removed after 2017-06-15.\n",
      "Instructions for updating:\n",
      "contrib/learn/dataframe/** is deprecated.\n",
      "WARNING:tensorflow:From /home/lile/anaconda3/lib/python3.5/site-packages/tensorflow/contrib/learn/python/learn/dataframe/transforms/reader_source.py:90: parameter (from tensorflow.contrib.learn.python.learn.dataframe.transform) is deprecated and will be removed after 2017-06-15.\n",
      "Instructions for updating:\n",
      "contrib/learn/dataframe/** is deprecated.\n",
      "WARNING:tensorflow:From /home/lile/anaconda3/lib/python3.5/site-packages/tensorflow/contrib/learn/python/learn/dataframe/transforms/reader_source.py:94: parameter (from tensorflow.contrib.learn.python.learn.dataframe.transform) is deprecated and will be removed after 2017-06-15.\n",
      "Instructions for updating:\n",
      "contrib/learn/dataframe/** is deprecated.\n",
      "WARNING:tensorflow:From /home/lile/anaconda3/lib/python3.5/site-packages/tensorflow/contrib/learn/python/learn/dataframe/transforms/reader_source.py:98: parameter (from tensorflow.contrib.learn.python.learn.dataframe.transform) is deprecated and will be removed after 2017-06-15.\n",
      "Instructions for updating:\n",
      "contrib/learn/dataframe/** is deprecated.\n",
      "WARNING:tensorflow:From /home/lile/anaconda3/lib/python3.5/site-packages/tensorflow/contrib/learn/python/learn/dataframe/transforms/reader_source.py:102: parameter (from tensorflow.contrib.learn.python.learn.dataframe.transform) is deprecated and will be removed after 2017-06-15.\n",
      "Instructions for updating:\n",
      "contrib/learn/dataframe/** is deprecated.\n",
      "WARNING:tensorflow:From /home/lile/anaconda3/lib/python3.5/site-packages/tensorflow/contrib/learn/python/learn/dataframe/transforms/reader_source.py:106: parameter (from tensorflow.contrib.learn.python.learn.dataframe.transform) is deprecated and will be removed after 2017-06-15.\n",
      "Instructions for updating:\n",
      "contrib/learn/dataframe/** is deprecated.\n",
      "WARNING:tensorflow:From /home/lile/anaconda3/lib/python3.5/site-packages/tensorflow/contrib/learn/python/learn/dataframe/transforms/reader_source.py:110: parameter (from tensorflow.contrib.learn.python.learn.dataframe.transform) is deprecated and will be removed after 2017-06-15.\n",
      "Instructions for updating:\n",
      "contrib/learn/dataframe/** is deprecated.\n",
      "WARNING:tensorflow:From /home/lile/anaconda3/lib/python3.5/site-packages/tensorflow/contrib/learn/python/learn/dataframe/transforms/reader_source.py:114: parameter (from tensorflow.contrib.learn.python.learn.dataframe.transform) is deprecated and will be removed after 2017-06-15.\n",
      "Instructions for updating:\n",
      "contrib/learn/dataframe/** is deprecated.\n",
      "WARNING:tensorflow:From /home/lile/anaconda3/lib/python3.5/site-packages/tensorflow/contrib/learn/python/learn/dataframe/transforms/sparsify.py:39: parameter (from tensorflow.contrib.learn.python.learn.dataframe.transform) is deprecated and will be removed after 2017-06-15.\n",
      "Instructions for updating:\n",
      "contrib/learn/dataframe/** is deprecated.\n",
      "WARNING:tensorflow:From /home/lile/anaconda3/lib/python3.5/site-packages/tensorflow/contrib/learn/python/learn/dataframe/transforms/binary_transforms.py:78: parameter (from tensorflow.contrib.learn.python.learn.dataframe.transform) is deprecated and will be removed after 2017-06-15.\n",
      "Instructions for updating:\n",
      "contrib/learn/dataframe/** is deprecated.\n"
     ]
    },
    {
     "ename": "ResourceExhaustedError",
     "evalue": "OOM when allocating tensor with shape[512]\n\t [[Node: conv4_2/b/Assign = Assign[T=DT_FLOAT, _class=[\"loc:@conv4_2/b\"], use_locking=true, validate_shape=true, _device=\"/job:localhost/replica:0/task:0/gpu:0\"](conv4_2/b, conv4_2/Const)]]\n\nCaused by op 'conv4_2/b/Assign', defined at:\n  File \"/home/lile/anaconda3/lib/python3.5/runpy.py\", line 184, in _run_module_as_main\n    \"__main__\", mod_spec)\n  File \"/home/lile/anaconda3/lib/python3.5/runpy.py\", line 85, in _run_code\n    exec(code, run_globals)\n  File \"/home/lile/anaconda3/lib/python3.5/site-packages/ipykernel/__main__.py\", line 3, in <module>\n    app.launch_new_instance()\n  File \"/home/lile/anaconda3/lib/python3.5/site-packages/traitlets/config/application.py\", line 653, in launch_instance\n    app.start()\n  File \"/home/lile/anaconda3/lib/python3.5/site-packages/ipykernel/kernelapp.py\", line 474, in start\n    ioloop.IOLoop.instance().start()\n  File \"/home/lile/anaconda3/lib/python3.5/site-packages/zmq/eventloop/ioloop.py\", line 162, in start\n    super(ZMQIOLoop, self).start()\n  File \"/home/lile/anaconda3/lib/python3.5/site-packages/tornado/ioloop.py\", line 887, in start\n    handler_func(fd_obj, events)\n  File \"/home/lile/anaconda3/lib/python3.5/site-packages/tornado/stack_context.py\", line 275, in null_wrapper\n    return fn(*args, **kwargs)\n  File \"/home/lile/anaconda3/lib/python3.5/site-packages/zmq/eventloop/zmqstream.py\", line 440, in _handle_events\n    self._handle_recv()\n  File \"/home/lile/anaconda3/lib/python3.5/site-packages/zmq/eventloop/zmqstream.py\", line 472, in _handle_recv\n    self._run_callback(callback, msg)\n  File \"/home/lile/anaconda3/lib/python3.5/site-packages/zmq/eventloop/zmqstream.py\", line 414, in _run_callback\n    callback(*args, **kwargs)\n  File \"/home/lile/anaconda3/lib/python3.5/site-packages/tornado/stack_context.py\", line 275, in null_wrapper\n    return fn(*args, **kwargs)\n  File \"/home/lile/anaconda3/lib/python3.5/site-packages/ipykernel/kernelbase.py\", line 276, in dispatcher\n    return self.dispatch_shell(stream, msg)\n  File \"/home/lile/anaconda3/lib/python3.5/site-packages/ipykernel/kernelbase.py\", line 228, in dispatch_shell\n    handler(stream, idents, msg)\n  File \"/home/lile/anaconda3/lib/python3.5/site-packages/ipykernel/kernelbase.py\", line 390, in execute_request\n    user_expressions, allow_stdin)\n  File \"/home/lile/anaconda3/lib/python3.5/site-packages/ipykernel/ipkernel.py\", line 196, in do_execute\n    res = shell.run_cell(code, store_history=store_history, silent=silent)\n  File \"/home/lile/anaconda3/lib/python3.5/site-packages/ipykernel/zmqshell.py\", line 501, in run_cell\n    return super(ZMQInteractiveShell, self).run_cell(*args, **kwargs)\n  File \"/home/lile/anaconda3/lib/python3.5/site-packages/IPython/core/interactiveshell.py\", line 2717, in run_cell\n    interactivity=interactivity, compiler=compiler, result=result)\n  File \"/home/lile/anaconda3/lib/python3.5/site-packages/IPython/core/interactiveshell.py\", line 2827, in run_ast_nodes\n    if self.run_code(code, result):\n  File \"/home/lile/anaconda3/lib/python3.5/site-packages/IPython/core/interactiveshell.py\", line 2881, in run_code\n    exec(code_obj, self.user_global_ns, self.user_ns)\n  File \"<ipython-input-10-6a0e0682de04>\", line 1, in <module>\n    run_benchmark()\n  File \"<ipython-input-9-b757aca6daec>\", line 11, in run_benchmark\n    predictions, softmax, fc8, p = inference_op(images, keep_prob)\n  File \"<ipython-input-5-d0143a8c59b1>\", line 23, in inference_op\n    conv4_2 = conv_op(conv4_1,  name=\"conv4_2\", kh=3, kw=3, n_out=512, dh=1, dw=1, p=p)\n  File \"<ipython-input-2-6f364cb3edab>\", line 11, in conv_op\n    biases = tf.Variable(bias_init_val, trainable=True, name='b')\n  File \"/home/lile/anaconda3/lib/python3.5/site-packages/tensorflow/python/ops/variables.py\", line 200, in __init__\n    expected_shape=expected_shape)\n  File \"/home/lile/anaconda3/lib/python3.5/site-packages/tensorflow/python/ops/variables.py\", line 309, in _init_from_args\n    validate_shape=validate_shape).op\n  File \"/home/lile/anaconda3/lib/python3.5/site-packages/tensorflow/python/ops/state_ops.py\", line 271, in assign\n    validate_shape=validate_shape)\n  File \"/home/lile/anaconda3/lib/python3.5/site-packages/tensorflow/python/ops/gen_state_ops.py\", line 45, in assign\n    use_locking=use_locking, name=name)\n  File \"/home/lile/anaconda3/lib/python3.5/site-packages/tensorflow/python/framework/op_def_library.py\", line 767, in apply_op\n    op_def=op_def)\n  File \"/home/lile/anaconda3/lib/python3.5/site-packages/tensorflow/python/framework/ops.py\", line 2514, in create_op\n    original_op=self._default_original_op, op_def=op_def)\n  File \"/home/lile/anaconda3/lib/python3.5/site-packages/tensorflow/python/framework/ops.py\", line 1269, in __init__\n    self._traceback = _extract_stack()\n\nResourceExhaustedError (see above for traceback): OOM when allocating tensor with shape[512]\n\t [[Node: conv4_2/b/Assign = Assign[T=DT_FLOAT, _class=[\"loc:@conv4_2/b\"], use_locking=true, validate_shape=true, _device=\"/job:localhost/replica:0/task:0/gpu:0\"](conv4_2/b, conv4_2/Const)]]\n",
     "output_type": "error",
     "traceback": [
      "\u001b[0;31m---------------------------------------------------------------------------\u001b[0m",
      "\u001b[0;31mResourceExhaustedError\u001b[0m                    Traceback (most recent call last)",
      "\u001b[0;32m/home/lile/anaconda3/lib/python3.5/site-packages/tensorflow/python/client/session.py\u001b[0m in \u001b[0;36m_do_call\u001b[0;34m(self, fn, *args)\u001b[0m\n\u001b[1;32m   1140\u001b[0m     \u001b[0;32mtry\u001b[0m\u001b[0;34m:\u001b[0m\u001b[0;34m\u001b[0m\u001b[0m\n\u001b[0;32m-> 1141\u001b[0;31m       \u001b[0;32mreturn\u001b[0m \u001b[0mfn\u001b[0m\u001b[0;34m(\u001b[0m\u001b[0;34m*\u001b[0m\u001b[0margs\u001b[0m\u001b[0;34m)\u001b[0m\u001b[0;34m\u001b[0m\u001b[0m\n\u001b[0m\u001b[1;32m   1142\u001b[0m     \u001b[0;32mexcept\u001b[0m \u001b[0merrors\u001b[0m\u001b[0;34m.\u001b[0m\u001b[0mOpError\u001b[0m \u001b[0;32mas\u001b[0m \u001b[0me\u001b[0m\u001b[0;34m:\u001b[0m\u001b[0;34m\u001b[0m\u001b[0m\n",
      "\u001b[0;32m/home/lile/anaconda3/lib/python3.5/site-packages/tensorflow/python/client/session.py\u001b[0m in \u001b[0;36m_run_fn\u001b[0;34m(session, feed_dict, fetch_list, target_list, options, run_metadata)\u001b[0m\n\u001b[1;32m   1122\u001b[0m                                  \u001b[0mfeed_dict\u001b[0m\u001b[0;34m,\u001b[0m \u001b[0mfetch_list\u001b[0m\u001b[0;34m,\u001b[0m \u001b[0mtarget_list\u001b[0m\u001b[0;34m,\u001b[0m\u001b[0;34m\u001b[0m\u001b[0m\n\u001b[0;32m-> 1123\u001b[0;31m                                  status, run_metadata)\n\u001b[0m\u001b[1;32m   1124\u001b[0m \u001b[0;34m\u001b[0m\u001b[0m\n",
      "\u001b[0;32m/home/lile/anaconda3/lib/python3.5/contextlib.py\u001b[0m in \u001b[0;36m__exit__\u001b[0;34m(self, type, value, traceback)\u001b[0m\n\u001b[1;32m     65\u001b[0m             \u001b[0;32mtry\u001b[0m\u001b[0;34m:\u001b[0m\u001b[0;34m\u001b[0m\u001b[0m\n\u001b[0;32m---> 66\u001b[0;31m                 \u001b[0mnext\u001b[0m\u001b[0;34m(\u001b[0m\u001b[0mself\u001b[0m\u001b[0;34m.\u001b[0m\u001b[0mgen\u001b[0m\u001b[0;34m)\u001b[0m\u001b[0;34m\u001b[0m\u001b[0m\n\u001b[0m\u001b[1;32m     67\u001b[0m             \u001b[0;32mexcept\u001b[0m \u001b[0mStopIteration\u001b[0m\u001b[0;34m:\u001b[0m\u001b[0;34m\u001b[0m\u001b[0m\n",
      "\u001b[0;32m/home/lile/anaconda3/lib/python3.5/site-packages/tensorflow/python/framework/errors_impl.py\u001b[0m in \u001b[0;36mraise_exception_on_not_ok_status\u001b[0;34m()\u001b[0m\n\u001b[1;32m    465\u001b[0m           \u001b[0mcompat\u001b[0m\u001b[0;34m.\u001b[0m\u001b[0mas_text\u001b[0m\u001b[0;34m(\u001b[0m\u001b[0mpywrap_tensorflow\u001b[0m\u001b[0;34m.\u001b[0m\u001b[0mTF_Message\u001b[0m\u001b[0;34m(\u001b[0m\u001b[0mstatus\u001b[0m\u001b[0;34m)\u001b[0m\u001b[0;34m)\u001b[0m\u001b[0;34m,\u001b[0m\u001b[0;34m\u001b[0m\u001b[0m\n\u001b[0;32m--> 466\u001b[0;31m           pywrap_tensorflow.TF_GetCode(status))\n\u001b[0m\u001b[1;32m    467\u001b[0m   \u001b[0;32mfinally\u001b[0m\u001b[0;34m:\u001b[0m\u001b[0;34m\u001b[0m\u001b[0m\n",
      "\u001b[0;31mResourceExhaustedError\u001b[0m: OOM when allocating tensor with shape[512]\n\t [[Node: conv4_2/b/Assign = Assign[T=DT_FLOAT, _class=[\"loc:@conv4_2/b\"], use_locking=true, validate_shape=true, _device=\"/job:localhost/replica:0/task:0/gpu:0\"](conv4_2/b, conv4_2/Const)]]",
      "\nDuring handling of the above exception, another exception occurred:\n",
      "\u001b[0;31mResourceExhaustedError\u001b[0m                    Traceback (most recent call last)",
      "\u001b[0;32m<ipython-input-10-6a0e0682de04>\u001b[0m in \u001b[0;36m<module>\u001b[0;34m()\u001b[0m\n\u001b[0;32m----> 1\u001b[0;31m \u001b[0mrun_benchmark\u001b[0m\u001b[0;34m(\u001b[0m\u001b[0;34m)\u001b[0m\u001b[0;34m\u001b[0m\u001b[0m\n\u001b[0m",
      "\u001b[0;32m<ipython-input-9-b757aca6daec>\u001b[0m in \u001b[0;36mrun_benchmark\u001b[0;34m()\u001b[0m\n\u001b[1;32m     16\u001b[0m         \u001b[0mconfig\u001b[0m\u001b[0;34m.\u001b[0m\u001b[0mgpu_options\u001b[0m\u001b[0;34m.\u001b[0m\u001b[0mallocator_type\u001b[0m \u001b[0;34m=\u001b[0m \u001b[0;34m'BFC'\u001b[0m\u001b[0;34m\u001b[0m\u001b[0m\n\u001b[1;32m     17\u001b[0m         \u001b[0msess\u001b[0m \u001b[0;34m=\u001b[0m \u001b[0mtf\u001b[0m\u001b[0;34m.\u001b[0m\u001b[0mSession\u001b[0m\u001b[0;34m(\u001b[0m\u001b[0mconfig\u001b[0m\u001b[0;34m=\u001b[0m\u001b[0mconfig\u001b[0m\u001b[0;34m)\u001b[0m\u001b[0;34m\u001b[0m\u001b[0m\n\u001b[0;32m---> 18\u001b[0;31m         \u001b[0msess\u001b[0m\u001b[0;34m.\u001b[0m\u001b[0mrun\u001b[0m\u001b[0;34m(\u001b[0m\u001b[0minit\u001b[0m\u001b[0;34m)\u001b[0m\u001b[0;34m\u001b[0m\u001b[0m\n\u001b[0m\u001b[1;32m     19\u001b[0m \u001b[0;34m\u001b[0m\u001b[0m\n\u001b[1;32m     20\u001b[0m         \u001b[0mtime_tensorflow_run\u001b[0m\u001b[0;34m(\u001b[0m\u001b[0msess\u001b[0m\u001b[0;34m,\u001b[0m \u001b[0mpredictions\u001b[0m\u001b[0;34m,\u001b[0m \u001b[0;34m{\u001b[0m\u001b[0mkeep_prob\u001b[0m\u001b[0;34m:\u001b[0m\u001b[0;36m1.0\u001b[0m\u001b[0;34m}\u001b[0m\u001b[0;34m,\u001b[0m \u001b[0;34m\"Forward\"\u001b[0m\u001b[0;34m)\u001b[0m\u001b[0;34m\u001b[0m\u001b[0m\n",
      "\u001b[0;32m/home/lile/anaconda3/lib/python3.5/site-packages/tensorflow/python/client/session.py\u001b[0m in \u001b[0;36mrun\u001b[0;34m(self, fetches, feed_dict, options, run_metadata)\u001b[0m\n\u001b[1;32m    787\u001b[0m     \u001b[0;32mtry\u001b[0m\u001b[0;34m:\u001b[0m\u001b[0;34m\u001b[0m\u001b[0m\n\u001b[1;32m    788\u001b[0m       result = self._run(None, fetches, feed_dict, options_ptr,\n\u001b[0;32m--> 789\u001b[0;31m                          run_metadata_ptr)\n\u001b[0m\u001b[1;32m    790\u001b[0m       \u001b[0;32mif\u001b[0m \u001b[0mrun_metadata\u001b[0m\u001b[0;34m:\u001b[0m\u001b[0;34m\u001b[0m\u001b[0m\n\u001b[1;32m    791\u001b[0m         \u001b[0mproto_data\u001b[0m \u001b[0;34m=\u001b[0m \u001b[0mtf_session\u001b[0m\u001b[0;34m.\u001b[0m\u001b[0mTF_GetBuffer\u001b[0m\u001b[0;34m(\u001b[0m\u001b[0mrun_metadata_ptr\u001b[0m\u001b[0;34m)\u001b[0m\u001b[0;34m\u001b[0m\u001b[0m\n",
      "\u001b[0;32m/home/lile/anaconda3/lib/python3.5/site-packages/tensorflow/python/client/session.py\u001b[0m in \u001b[0;36m_run\u001b[0;34m(self, handle, fetches, feed_dict, options, run_metadata)\u001b[0m\n\u001b[1;32m    997\u001b[0m     \u001b[0;32mif\u001b[0m \u001b[0mfinal_fetches\u001b[0m \u001b[0;32mor\u001b[0m \u001b[0mfinal_targets\u001b[0m \u001b[0;32mor\u001b[0m \u001b[0;34m(\u001b[0m\u001b[0mhandle\u001b[0m \u001b[0;32mand\u001b[0m \u001b[0mfeed_dict_string\u001b[0m\u001b[0;34m)\u001b[0m\u001b[0;34m:\u001b[0m\u001b[0;34m\u001b[0m\u001b[0m\n\u001b[1;32m    998\u001b[0m       results = self._do_run(handle, final_targets, final_fetches,\n\u001b[0;32m--> 999\u001b[0;31m                              feed_dict_string, options, run_metadata)\n\u001b[0m\u001b[1;32m   1000\u001b[0m     \u001b[0;32melse\u001b[0m\u001b[0;34m:\u001b[0m\u001b[0;34m\u001b[0m\u001b[0m\n\u001b[1;32m   1001\u001b[0m       \u001b[0mresults\u001b[0m \u001b[0;34m=\u001b[0m \u001b[0;34m[\u001b[0m\u001b[0;34m]\u001b[0m\u001b[0;34m\u001b[0m\u001b[0m\n",
      "\u001b[0;32m/home/lile/anaconda3/lib/python3.5/site-packages/tensorflow/python/client/session.py\u001b[0m in \u001b[0;36m_do_run\u001b[0;34m(self, handle, target_list, fetch_list, feed_dict, options, run_metadata)\u001b[0m\n\u001b[1;32m   1132\u001b[0m     \u001b[0;32mif\u001b[0m \u001b[0mhandle\u001b[0m \u001b[0;32mis\u001b[0m \u001b[0;32mNone\u001b[0m\u001b[0;34m:\u001b[0m\u001b[0;34m\u001b[0m\u001b[0m\n\u001b[1;32m   1133\u001b[0m       return self._do_call(_run_fn, self._session, feed_dict, fetch_list,\n\u001b[0;32m-> 1134\u001b[0;31m                            target_list, options, run_metadata)\n\u001b[0m\u001b[1;32m   1135\u001b[0m     \u001b[0;32melse\u001b[0m\u001b[0;34m:\u001b[0m\u001b[0;34m\u001b[0m\u001b[0m\n\u001b[1;32m   1136\u001b[0m       return self._do_call(_prun_fn, self._session, handle, feed_dict,\n",
      "\u001b[0;32m/home/lile/anaconda3/lib/python3.5/site-packages/tensorflow/python/client/session.py\u001b[0m in \u001b[0;36m_do_call\u001b[0;34m(self, fn, *args)\u001b[0m\n\u001b[1;32m   1152\u001b[0m         \u001b[0;32mexcept\u001b[0m \u001b[0mKeyError\u001b[0m\u001b[0;34m:\u001b[0m\u001b[0;34m\u001b[0m\u001b[0m\n\u001b[1;32m   1153\u001b[0m           \u001b[0;32mpass\u001b[0m\u001b[0;34m\u001b[0m\u001b[0m\n\u001b[0;32m-> 1154\u001b[0;31m       \u001b[0;32mraise\u001b[0m \u001b[0mtype\u001b[0m\u001b[0;34m(\u001b[0m\u001b[0me\u001b[0m\u001b[0;34m)\u001b[0m\u001b[0;34m(\u001b[0m\u001b[0mnode_def\u001b[0m\u001b[0;34m,\u001b[0m \u001b[0mop\u001b[0m\u001b[0;34m,\u001b[0m \u001b[0mmessage\u001b[0m\u001b[0;34m)\u001b[0m\u001b[0;34m\u001b[0m\u001b[0m\n\u001b[0m\u001b[1;32m   1155\u001b[0m \u001b[0;34m\u001b[0m\u001b[0m\n\u001b[1;32m   1156\u001b[0m   \u001b[0;32mdef\u001b[0m \u001b[0m_extend_graph\u001b[0m\u001b[0;34m(\u001b[0m\u001b[0mself\u001b[0m\u001b[0;34m)\u001b[0m\u001b[0;34m:\u001b[0m\u001b[0;34m\u001b[0m\u001b[0m\n",
      "\u001b[0;31mResourceExhaustedError\u001b[0m: OOM when allocating tensor with shape[512]\n\t [[Node: conv4_2/b/Assign = Assign[T=DT_FLOAT, _class=[\"loc:@conv4_2/b\"], use_locking=true, validate_shape=true, _device=\"/job:localhost/replica:0/task:0/gpu:0\"](conv4_2/b, conv4_2/Const)]]\n\nCaused by op 'conv4_2/b/Assign', defined at:\n  File \"/home/lile/anaconda3/lib/python3.5/runpy.py\", line 184, in _run_module_as_main\n    \"__main__\", mod_spec)\n  File \"/home/lile/anaconda3/lib/python3.5/runpy.py\", line 85, in _run_code\n    exec(code, run_globals)\n  File \"/home/lile/anaconda3/lib/python3.5/site-packages/ipykernel/__main__.py\", line 3, in <module>\n    app.launch_new_instance()\n  File \"/home/lile/anaconda3/lib/python3.5/site-packages/traitlets/config/application.py\", line 653, in launch_instance\n    app.start()\n  File \"/home/lile/anaconda3/lib/python3.5/site-packages/ipykernel/kernelapp.py\", line 474, in start\n    ioloop.IOLoop.instance().start()\n  File \"/home/lile/anaconda3/lib/python3.5/site-packages/zmq/eventloop/ioloop.py\", line 162, in start\n    super(ZMQIOLoop, self).start()\n  File \"/home/lile/anaconda3/lib/python3.5/site-packages/tornado/ioloop.py\", line 887, in start\n    handler_func(fd_obj, events)\n  File \"/home/lile/anaconda3/lib/python3.5/site-packages/tornado/stack_context.py\", line 275, in null_wrapper\n    return fn(*args, **kwargs)\n  File \"/home/lile/anaconda3/lib/python3.5/site-packages/zmq/eventloop/zmqstream.py\", line 440, in _handle_events\n    self._handle_recv()\n  File \"/home/lile/anaconda3/lib/python3.5/site-packages/zmq/eventloop/zmqstream.py\", line 472, in _handle_recv\n    self._run_callback(callback, msg)\n  File \"/home/lile/anaconda3/lib/python3.5/site-packages/zmq/eventloop/zmqstream.py\", line 414, in _run_callback\n    callback(*args, **kwargs)\n  File \"/home/lile/anaconda3/lib/python3.5/site-packages/tornado/stack_context.py\", line 275, in null_wrapper\n    return fn(*args, **kwargs)\n  File \"/home/lile/anaconda3/lib/python3.5/site-packages/ipykernel/kernelbase.py\", line 276, in dispatcher\n    return self.dispatch_shell(stream, msg)\n  File \"/home/lile/anaconda3/lib/python3.5/site-packages/ipykernel/kernelbase.py\", line 228, in dispatch_shell\n    handler(stream, idents, msg)\n  File \"/home/lile/anaconda3/lib/python3.5/site-packages/ipykernel/kernelbase.py\", line 390, in execute_request\n    user_expressions, allow_stdin)\n  File \"/home/lile/anaconda3/lib/python3.5/site-packages/ipykernel/ipkernel.py\", line 196, in do_execute\n    res = shell.run_cell(code, store_history=store_history, silent=silent)\n  File \"/home/lile/anaconda3/lib/python3.5/site-packages/ipykernel/zmqshell.py\", line 501, in run_cell\n    return super(ZMQInteractiveShell, self).run_cell(*args, **kwargs)\n  File \"/home/lile/anaconda3/lib/python3.5/site-packages/IPython/core/interactiveshell.py\", line 2717, in run_cell\n    interactivity=interactivity, compiler=compiler, result=result)\n  File \"/home/lile/anaconda3/lib/python3.5/site-packages/IPython/core/interactiveshell.py\", line 2827, in run_ast_nodes\n    if self.run_code(code, result):\n  File \"/home/lile/anaconda3/lib/python3.5/site-packages/IPython/core/interactiveshell.py\", line 2881, in run_code\n    exec(code_obj, self.user_global_ns, self.user_ns)\n  File \"<ipython-input-10-6a0e0682de04>\", line 1, in <module>\n    run_benchmark()\n  File \"<ipython-input-9-b757aca6daec>\", line 11, in run_benchmark\n    predictions, softmax, fc8, p = inference_op(images, keep_prob)\n  File \"<ipython-input-5-d0143a8c59b1>\", line 23, in inference_op\n    conv4_2 = conv_op(conv4_1,  name=\"conv4_2\", kh=3, kw=3, n_out=512, dh=1, dw=1, p=p)\n  File \"<ipython-input-2-6f364cb3edab>\", line 11, in conv_op\n    biases = tf.Variable(bias_init_val, trainable=True, name='b')\n  File \"/home/lile/anaconda3/lib/python3.5/site-packages/tensorflow/python/ops/variables.py\", line 200, in __init__\n    expected_shape=expected_shape)\n  File \"/home/lile/anaconda3/lib/python3.5/site-packages/tensorflow/python/ops/variables.py\", line 309, in _init_from_args\n    validate_shape=validate_shape).op\n  File \"/home/lile/anaconda3/lib/python3.5/site-packages/tensorflow/python/ops/state_ops.py\", line 271, in assign\n    validate_shape=validate_shape)\n  File \"/home/lile/anaconda3/lib/python3.5/site-packages/tensorflow/python/ops/gen_state_ops.py\", line 45, in assign\n    use_locking=use_locking, name=name)\n  File \"/home/lile/anaconda3/lib/python3.5/site-packages/tensorflow/python/framework/op_def_library.py\", line 767, in apply_op\n    op_def=op_def)\n  File \"/home/lile/anaconda3/lib/python3.5/site-packages/tensorflow/python/framework/ops.py\", line 2514, in create_op\n    original_op=self._default_original_op, op_def=op_def)\n  File \"/home/lile/anaconda3/lib/python3.5/site-packages/tensorflow/python/framework/ops.py\", line 1269, in __init__\n    self._traceback = _extract_stack()\n\nResourceExhaustedError (see above for traceback): OOM when allocating tensor with shape[512]\n\t [[Node: conv4_2/b/Assign = Assign[T=DT_FLOAT, _class=[\"loc:@conv4_2/b\"], use_locking=true, validate_shape=true, _device=\"/job:localhost/replica:0/task:0/gpu:0\"](conv4_2/b, conv4_2/Const)]]\n"
     ]
    }
   ],
   "source": [
    "run_benchmark()"
   ]
  }
 ],
 "metadata": {
  "anaconda-cloud": {},
  "kernelspec": {
   "display_name": "Python [conda root]",
   "language": "python",
   "name": "conda-root-py"
  },
  "language_info": {
   "codemirror_mode": {
    "name": "ipython",
    "version": 3
   },
   "file_extension": ".py",
   "mimetype": "text/x-python",
   "name": "python",
   "nbconvert_exporter": "python",
   "pygments_lexer": "ipython3",
   "version": "3.5.2"
  }
 },
 "nbformat": 4,
 "nbformat_minor": 1
}
