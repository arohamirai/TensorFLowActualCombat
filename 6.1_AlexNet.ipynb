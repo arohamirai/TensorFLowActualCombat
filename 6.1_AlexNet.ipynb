{
 "cells": [
  {
   "cell_type": "markdown",
   "metadata": {},
   "source": [
    "# AlexNet\n",
    "1. 2012 年ILSVRC(ImageNet Large Scale Visual Recognition Challenge) 冠军（top-5错误率：16.4%，使用额外数据可达到15.3%，8层神经网络）\n",
    "2. Hinton的学生Alex Krizhevsky提出,可以算是LeNet的一种更深更宽的版本\n",
    "3. 新技术点：\n",
    "\n",
    "    1). 成功使用ReLU作为CNN的激活函数，并验证其效果在较深的网络超过了Sigmoid;\n",
    "    \n",
    "    2). 将Dropout技术实用化；\n",
    "    \n",
    "    3). 在CNN中使用重叠的最大池化（最大：tf.nn.max_pool、重叠：步长小于池化核尺寸）,此前普遍使用平均池化，这会导致模糊化；\n",
    "    \n",
    "    4). 提出LRN层；(http://yeephycho.github.io/2016/08/03/Normalizations-in-neural-networks/)\n",
    "    \n",
    "    5). 使用CUDA加速深度卷积网络的训练；\n",
    "    \n",
    "    6). 数据增强，大大减轻了过拟合，提高模型的泛化能力。"
   ]
  },
  {
   "cell_type": "markdown",
   "metadata": {},
   "source": [
    "没有添加最后三层全连接层，完整代码参考下面链接：\n",
    "http://www.cs.toronto.edu/~guerzhoy/tf_alexnet/"
   ]
  },
  {
   "cell_type": "code",
   "execution_count": 1,
   "metadata": {
    "collapsed": true
   },
   "outputs": [],
   "source": [
    "from datetime import datetime\n",
    "import math\n",
    "import time\n",
    "import tensorflow as tf"
   ]
  },
  {
   "cell_type": "markdown",
   "metadata": {},
   "source": [
    "batch_size为32,总共测试100个batch数据"
   ]
  },
  {
   "cell_type": "code",
   "execution_count": 2,
   "metadata": {
    "collapsed": true
   },
   "outputs": [],
   "source": [
    "batch_size=32\n",
    "num_batches=100"
   ]
  },
  {
   "cell_type": "markdown",
   "metadata": {},
   "source": [
    "显示网络每一层的结构，显示各层输出tensor的尺寸"
   ]
  },
  {
   "cell_type": "code",
   "execution_count": 3,
   "metadata": {
    "collapsed": true
   },
   "outputs": [],
   "source": [
    "def print_activations(t):\n",
    "    print(t.op.name, ' ', t.get_shape().as_list())"
   ]
  },
  {
   "cell_type": "markdown",
   "metadata": {},
   "source": [
    "# 一、定义ＡlexNet 的网络结构（inference）"
   ]
  },
  {
   "cell_type": "code",
   "execution_count": 4,
   "metadata": {
    "collapsed": true
   },
   "outputs": [],
   "source": [
    "def inference(images):\n",
    "    parameters = []\n",
    "    # conv1\n",
    "    with tf.name_scope('conv1') as scope:\n",
    "        kernel = tf.Variable(tf.truncated_normal([11, 11, 3, 64], dtype=tf.float32,\n",
    "                                                 stddev=1e-1), name='weights')\n",
    "        conv = tf.nn.conv2d(images, kernel, [1, 4, 4, 1], padding='SAME')\n",
    "        biases = tf.Variable(tf.constant(0.0, shape=[64], dtype=tf.float32),\n",
    "                             trainable=True, name='biases')\n",
    "        bias = tf.nn.bias_add(conv, biases)\n",
    "        conv1 = tf.nn.relu(bias, name=scope)\n",
    "        print_activations(conv1)\n",
    "        parameters += [kernel, biases]\n",
    "\n",
    "\n",
    "  # pool1\n",
    "    lrn1 = tf.nn.lrn(conv1, 4, bias=1.0, alpha=0.001 / 9.0, beta=0.75, name='lrn1')\n",
    "    pool1 = tf.nn.max_pool(lrn1,\n",
    "                           ksize=[1, 3, 3, 1],\n",
    "                           strides=[1, 2, 2, 1],\n",
    "                           padding='VALID',\n",
    "                           name='pool1')\n",
    "    print_activations(pool1)\n",
    "\n",
    "  # conv2\n",
    "    with tf.name_scope('conv2') as scope:\n",
    "        kernel = tf.Variable(tf.truncated_normal([5, 5, 64, 192], dtype=tf.float32,\n",
    "                                                 stddev=1e-1), name='weights')\n",
    "        conv = tf.nn.conv2d(pool1, kernel, [1, 1, 1, 1], padding='SAME')\n",
    "        biases = tf.Variable(tf.constant(0.0, shape=[192], dtype=tf.float32),\n",
    "                             trainable=True, name='biases')\n",
    "        bias = tf.nn.bias_add(conv, biases)\n",
    "        conv2 = tf.nn.relu(bias, name=scope)\n",
    "        parameters += [kernel, biases]\n",
    "    print_activations(conv2)\n",
    "\n",
    "  # pool2\n",
    "    lrn2 = tf.nn.lrn(conv2, 4, bias=1.0, alpha=0.001 / 9.0, beta=0.75, name='lrn2')\n",
    "    pool2 = tf.nn.max_pool(lrn2,\n",
    "                           ksize=[1, 3, 3, 1],\n",
    "                           strides=[1, 2, 2, 1],\n",
    "                           padding='VALID',\n",
    "                           name='pool2')\n",
    "    print_activations(pool2)\n",
    "\n",
    "  # conv3\n",
    "    with tf.name_scope('conv3') as scope:\n",
    "        kernel = tf.Variable(tf.truncated_normal([3, 3, 192, 384],\n",
    "                                                 dtype=tf.float32,\n",
    "                                                 stddev=1e-1), name='weights')\n",
    "        conv = tf.nn.conv2d(pool2, kernel, [1, 1, 1, 1], padding='SAME')\n",
    "        biases = tf.Variable(tf.constant(0.0, shape=[384], dtype=tf.float32),\n",
    "                             trainable=True, name='biases')\n",
    "        bias = tf.nn.bias_add(conv, biases)\n",
    "        conv3 = tf.nn.relu(bias, name=scope)\n",
    "        parameters += [kernel, biases]\n",
    "        print_activations(conv3)\n",
    "\n",
    "  # conv4\n",
    "    with tf.name_scope('conv4') as scope:\n",
    "        kernel = tf.Variable(tf.truncated_normal([3, 3, 384, 256],\n",
    "                                                 dtype=tf.float32,\n",
    "                                                 stddev=1e-1), name='weights')\n",
    "        conv = tf.nn.conv2d(conv3, kernel, [1, 1, 1, 1], padding='SAME')\n",
    "        biases = tf.Variable(tf.constant(0.0, shape=[256], dtype=tf.float32),\n",
    "                             trainable=True, name='biases')\n",
    "        bias = tf.nn.bias_add(conv, biases)\n",
    "        conv4 = tf.nn.relu(bias, name=scope)\n",
    "        parameters += [kernel, biases]\n",
    "        print_activations(conv4)\n",
    "\n",
    "  # conv5\n",
    "    with tf.name_scope('conv5') as scope:\n",
    "        kernel = tf.Variable(tf.truncated_normal([3, 3, 256, 256],\n",
    "                                                 dtype=tf.float32,\n",
    "                                                 stddev=1e-1), name='weights')\n",
    "        conv = tf.nn.conv2d(conv4, kernel, [1, 1, 1, 1], padding='SAME')\n",
    "        biases = tf.Variable(tf.constant(0.0, shape=[256], dtype=tf.float32),\n",
    "                             trainable=True, name='biases')\n",
    "        bias = tf.nn.bias_add(conv, biases)\n",
    "        conv5 = tf.nn.relu(bias, name=scope)\n",
    "        parameters += [kernel, biases]\n",
    "        print_activations(conv5)\n",
    "\n",
    "  # pool5\n",
    "    pool5 = tf.nn.max_pool(conv5,\n",
    "                           ksize=[1, 3, 3, 1],\n",
    "                           strides=[1, 2, 2, 1],\n",
    "                           padding='VALID',\n",
    "                           name='pool5')\n",
    "    print_activations(pool5)\n",
    "\n",
    "    return pool5, parameters"
   ]
  },
  {
   "cell_type": "markdown",
   "metadata": {},
   "source": [
    "# 二、计算Ｆorward和Ｆorword-backward执行时间的函数"
   ]
  },
  {
   "cell_type": "code",
   "execution_count": 7,
   "metadata": {
    "collapsed": true
   },
   "outputs": [],
   "source": [
    "def time_tensorflow_run(session, target, info_string):\n",
    "#  \"\"\"Run the computation to obtain the target tensor and print timing stats.\n",
    "#\n",
    "#  Args:\n",
    "#    session: the TensorFlow session to run the computation under.\n",
    "#    target: the target Tensor that is passed to the session's run() function.\n",
    "#    info_string: a string summarizing this run, to be printed with the stats.\n",
    "#\n",
    "#  Returns:\n",
    "#    None\n",
    "#  \"\"\"\n",
    "    num_steps_burn_in = 10\n",
    "    total_duration = 0.0\n",
    "    total_duration_squared = 0.0\n",
    "    for i in range(num_batches + num_steps_burn_in):\n",
    "        start_time = time.time()\n",
    "        _ = session.run(target)\n",
    "        duration = time.time() - start_time\n",
    "        if i >= num_steps_burn_in:\n",
    "            if not i % 10:\n",
    "                print ('%s: step %d, duration = %.3f' %\n",
    "                       (datetime.now(), i - num_steps_burn_in, duration))\n",
    "            total_duration += duration\n",
    "            total_duration_squared += duration * duration\n",
    "    mn = total_duration / num_batches\n",
    "    vr = total_duration_squared / num_batches - mn * mn\n",
    "    sd = math.sqrt(vr)\n",
    "    print ('%s: %s across %d steps, %.3f +/- %.3f sec / batch' %\n",
    "           (datetime.now(), info_string, num_batches, mn, sd))"
   ]
  },
  {
   "cell_type": "markdown",
   "metadata": {},
   "source": [
    "# 三、定义模拟网络执行过程"
   ]
  },
  {
   "cell_type": "code",
   "execution_count": 8,
   "metadata": {
    "collapsed": true
   },
   "outputs": [],
   "source": [
    "def run_benchmark():\n",
    "#  \"\"\"Run the benchmark on AlexNet.\"\"\"\n",
    "    with tf.Graph().as_default():\n",
    "    # Generate some dummy images.\n",
    "        image_size = 224\n",
    "    # Note that our padding definition is slightly different the cuda-convnet.\n",
    "    # In order to force the model to start with the same activations sizes,\n",
    "    # we add 3 to the image_size and employ VALID padding above.\n",
    "        images = tf.Variable(tf.random_normal([batch_size,\n",
    "                                           image_size,\n",
    "                                           image_size, 3],\n",
    "                                          dtype=tf.float32,\n",
    "                                          stddev=1e-1))\n",
    "\n",
    "    # Build a Graph that computes the logits predictions from the\n",
    "    # inference model.\n",
    "        pool5, parameters = inference(images)\n",
    "\n",
    "    # Build an initialization operation.\n",
    "        init = tf.global_variables_initializer()\n",
    "\n",
    "    # Start running operations on the Graph.\n",
    "        config = tf.ConfigProto()\n",
    "        config.gpu_options.allocator_type = 'BFC'\n",
    "        sess = tf.Session(config=config)\n",
    "        sess.run(init)\n",
    "\n",
    "    # Run the forward benchmark.\n",
    "        time_tensorflow_run(sess, pool5, \"Forward\")\n",
    "\n",
    "    # Add a simple objective so we can calculate the backward pass.\n",
    "    #objective = sum(t ** 2) / 2\n",
    "        objective = tf.nn.l2_loss(pool5)\n",
    "    # Compute the gradient with respect to all the parameters.\n",
    "        grad = tf.gradients(objective, parameters)\n",
    "    # Run the backward benchmark.\n",
    "        time_tensorflow_run(sess, grad, \"Forward-backward\")"
   ]
  },
  {
   "cell_type": "markdown",
   "metadata": {},
   "source": [
    "# 四、执行"
   ]
  },
  {
   "cell_type": "code",
   "execution_count": 9,
   "metadata": {
    "collapsed": false
   },
   "outputs": [
    {
     "name": "stdout",
     "output_type": "stream",
     "text": [
      "conv1   [32, 56, 56, 64]\n",
      "pool1   [32, 27, 27, 64]\n",
      "conv2   [32, 27, 27, 192]\n",
      "pool2   [32, 13, 13, 192]\n",
      "conv3   [32, 13, 13, 384]\n",
      "conv4   [32, 13, 13, 256]\n",
      "conv5   [32, 13, 13, 256]\n",
      "pool5   [32, 6, 6, 256]\n",
      "2017-06-12 17:44:42.808367: step 0, duration = 0.090\n",
      "2017-06-12 17:44:43.743112: step 10, duration = 0.117\n",
      "2017-06-12 17:44:44.697359: step 20, duration = 0.091\n",
      "2017-06-12 17:44:45.611486: step 30, duration = 0.090\n",
      "2017-06-12 17:44:46.533292: step 40, duration = 0.095\n",
      "2017-06-12 17:44:47.453792: step 50, duration = 0.091\n",
      "2017-06-12 17:44:48.378840: step 60, duration = 0.091\n",
      "2017-06-12 17:44:49.343948: step 70, duration = 0.103\n",
      "2017-06-12 17:44:50.298895: step 80, duration = 0.099\n",
      "2017-06-12 17:44:51.231422: step 90, duration = 0.091\n",
      "2017-06-12 17:44:52.099861: Forward across 100 steps, 0.094 +/- 0.006 sec / batch\n",
      "2017-06-12 17:44:56.465665: step 0, duration = 0.313\n",
      "2017-06-12 17:44:59.651308: step 10, duration = 0.313\n",
      "2017-06-12 17:45:02.765514: step 20, duration = 0.311\n",
      "2017-06-12 17:45:05.881395: step 30, duration = 0.322\n",
      "2017-06-12 17:45:09.018893: step 40, duration = 0.318\n",
      "2017-06-12 17:45:12.186802: step 50, duration = 0.315\n",
      "2017-06-12 17:45:15.290176: step 60, duration = 0.310\n",
      "2017-06-12 17:45:18.490275: step 70, duration = 0.334\n",
      "2017-06-12 17:45:21.750985: step 80, duration = 0.314\n",
      "2017-06-12 17:45:24.877776: step 90, duration = 0.307\n",
      "2017-06-12 17:45:27.667058: Forward-backward across 100 steps, 0.315 +/- 0.011 sec / batch\n"
     ]
    }
   ],
   "source": [
    "run_benchmark()"
   ]
  },
  {
   "cell_type": "code",
   "execution_count": null,
   "metadata": {
    "collapsed": true
   },
   "outputs": [],
   "source": []
  }
 ],
 "metadata": {
  "anaconda-cloud": {},
  "kernelspec": {
   "display_name": "Python [conda root]",
   "language": "python",
   "name": "conda-root-py"
  },
  "language_info": {
   "codemirror_mode": {
    "name": "ipython",
    "version": 3
   },
   "file_extension": ".py",
   "mimetype": "text/x-python",
   "name": "python",
   "nbconvert_exporter": "python",
   "pygments_lexer": "ipython3",
   "version": "3.5.2"
  }
 },
 "nbformat": 4,
 "nbformat_minor": 1
}
